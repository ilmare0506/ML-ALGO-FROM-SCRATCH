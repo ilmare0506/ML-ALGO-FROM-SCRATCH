{
 "cells": [
  {
   "cell_type": "markdown",
   "metadata": {},
   "source": [
    "# ALGO DE ZERO : K-NEAREST NEIGHBOR"
   ]
  },
  {
   "cell_type": "markdown",
   "metadata": {},
   "source": [
    "<img src='images/knn2.png'>"
   ]
  },
  {
   "cell_type": "code",
   "execution_count": 27,
   "metadata": {},
   "outputs": [],
   "source": [
    "import numpy as np\n",
    "from collections import Counter"
   ]
  },
  {
   "cell_type": "markdown",
   "metadata": {},
   "source": [
    "## CLASSE KNN"
   ]
  },
  {
   "cell_type": "code",
   "execution_count": 25,
   "metadata": {},
   "outputs": [],
   "source": [
    "## Classe KNN\n",
    "class KNN:\n",
    "\n",
    "    def __init__(self, k=3):\n",
    "        self.k = k\n",
    "        \n",
    "    ## KNN donc pas d'entrainement on va juste définir X_train et y_train que l'on viendra utiliser dans predict\n",
    "    def fit(self, X, y):\n",
    "        self.X_train = X\n",
    "        self.y_train = y\n",
    "\n",
    "    def predict(self, X):\n",
    "        y_pred = [self._predict(x) for x in X]\n",
    "        return np.array(y_pred)\n",
    "    \n",
    "    def euclidean_distance(self,x1, x2):\n",
    "        return np.sqrt(np.sum((x1 - x2)**2))\n",
    "    \"\"\"\n",
    "    def accuracy (self,y_pred,y_true):\n",
    "        accuracy = np.sum(y_true == y_pred)/ len(y_true)\n",
    "        return accuracy\n",
    "    \"\"\"\n",
    "    def _predict(self, x):\n",
    "        # Calcul la distance entre notre point et tous les autres poinst du jeu de données\n",
    "        distances = [self.euclidean_distance(x, x_train) for x_train in self.X_train]\n",
    "        print(distances)\n",
    "        # Classe et renvoit les id par distance  \n",
    "        k_idx = np.argsort(distances)[:self.k]\n",
    "        #print('k_idx : ',k_idx)\n",
    "        # Remplace les Id par les labels correspondant\n",
    "        k_neighbor_labels = [self.y_train[i] for i in k_idx]  \n",
    "        #print('k_neighbor_labels : ',k_neighbor_labels)\n",
    "        # Renvoit le label le plus représenté dans k_neighbor_labels\n",
    "        most_common = Counter(k_neighbor_labels).most_common(1)\n",
    "        #print('most_common' , most_common)\n",
    "        return most_common[0][0]"
   ]
  },
  {
   "cell_type": "markdown",
   "metadata": {},
   "source": [
    "## MISE EN APPLICATION"
   ]
  },
  {
   "cell_type": "code",
   "execution_count": 20,
   "metadata": {},
   "outputs": [],
   "source": [
    "from sklearn import datasets\n",
    "from sklearn.model_selection import train_test_split"
   ]
  },
  {
   "cell_type": "code",
   "execution_count": 21,
   "metadata": {},
   "outputs": [],
   "source": [
    "iris = datasets.load_iris()\n",
    "X, y = iris.data, iris.target\n",
    "\n",
    "X_train, X_test, y_train, y_test = train_test_split(X, y, test_size=0.2, random_state=1)"
   ]
  },
  {
   "cell_type": "code",
   "execution_count": 26,
   "metadata": {},
   "outputs": [
    {
     "name": "stdout",
     "output_type": "stream",
     "text": [
      "k_idx :  [70 16 50]\n",
      "k_neighbor_labels :  [0, 0, 0]\n",
      "k_idx :  [99 47 96]\n",
      "k_neighbor_labels :  [1, 1, 1]\n",
      "k_idx :  [39 14 45]\n",
      "k_neighbor_labels :  [1, 1, 1]\n",
      "k_idx :  [50  5 83]\n",
      "k_neighbor_labels :  [0, 0, 0]\n",
      "k_idx :  [22 64  1]\n",
      "k_neighbor_labels :  [2, 2, 2]\n",
      "k_idx :  [27  0 37]\n",
      "k_neighbor_labels :  [1, 1, 2]\n",
      "k_idx :  [65 23 10]\n",
      "k_neighbor_labels :  [2, 2, 2]\n",
      "k_idx :  [43 83 77]\n",
      "k_neighbor_labels :  [0, 0, 0]\n",
      "k_idx :  [87 85 30]\n",
      "k_neighbor_labels :  [0, 0, 0]\n",
      "k_idx :  [ 81 118  53]\n",
      "k_neighbor_labels :  [2, 2, 2]\n",
      "k_idx :  [105  49  93]\n",
      "k_neighbor_labels :  [1, 1, 1]\n",
      "k_idx :  [16 50  5]\n",
      "k_neighbor_labels :  [0, 0, 0]\n",
      "k_idx :  [81 62 10]\n",
      "k_neighbor_labels :  [2, 2, 2]\n",
      "k_idx :  [ 39 104   0]\n",
      "k_neighbor_labels :  [1, 1, 1]\n",
      "k_idx :  [  0 102 101]\n",
      "k_neighbor_labels :  [1, 1, 1]\n",
      "k_idx :  [54 90 85]\n",
      "k_neighbor_labels :  [0, 0, 0]\n",
      "k_idx :  [71 60  2]\n",
      "k_neighbor_labels :  [1, 1, 1]\n",
      "k_idx :  [ 40 105 101]\n",
      "k_neighbor_labels :  [1, 1, 1]\n",
      "k_idx :  [109  58   7]\n",
      "k_neighbor_labels :  [0, 0, 0]\n",
      "k_idx :  [82 98 34]\n",
      "k_neighbor_labels :  [0, 0, 0]\n",
      "k_idx :  [ 40 105  49]\n",
      "k_neighbor_labels :  [1, 1, 1]\n",
      "k_idx :  [ 40 105  93]\n",
      "k_neighbor_labels :  [1, 1, 1]\n",
      "k_idx :  [ 74 104  88]\n",
      "k_neighbor_labels :  [1, 1, 2]\n",
      "k_idx :  [11 97 17]\n",
      "k_neighbor_labels :  [0, 0, 0]\n",
      "k_idx :  [113  24  62]\n",
      "k_neighbor_labels :  [2, 2, 2]\n",
      "k_idx :  [105  93  29]\n",
      "k_neighbor_labels :  [1, 1, 1]\n",
      "k_idx :  [52 70 50]\n",
      "k_neighbor_labels :  [0, 0, 0]\n",
      "k_idx :  [83 43  5]\n",
      "k_neighbor_labels :  [0, 0, 0]\n",
      "k_idx :  [102   0  63]\n",
      "k_neighbor_labels :  [1, 1, 1]\n",
      "k_idx :  [32 56 26]\n",
      "k_neighbor_labels :  [2, 2, 2]\n"
     ]
    }
   ],
   "source": [
    "model = KNN(k=3)\n",
    "model.fit(X_train, y_train)\n",
    "predictions = model.predict(X_test)\n",
    "#accuracy = model.accuracy(y_test,predictions)\n",
    "#print(\"ACCURACY\", accuracy)"
   ]
  },
  {
   "cell_type": "markdown",
   "metadata": {},
   "source": [
    "## COMPARAISON AVEC SKLEARN"
   ]
  },
  {
   "cell_type": "code",
   "execution_count": 64,
   "metadata": {},
   "outputs": [],
   "source": [
    "from sklearn.neighbors import KNeighborsClassifier\n",
    "\n",
    "model = KNeighborsClassifier(n_neighbors=3)\n",
    "\n",
    "# Train the model using the training sets\n",
    "model.fit(X_train,y_train)\n",
    "y_pred = model.predict(X_test)\n"
   ]
  },
  {
   "cell_type": "code",
   "execution_count": 65,
   "metadata": {},
   "outputs": [
    {
     "name": "stdout",
     "output_type": "stream",
     "text": [
      "Accuracy: 1.0\n"
     ]
    }
   ],
   "source": [
    "from sklearn import metrics\n",
    "print(\"Accuracy:\",metrics.accuracy_score(y_test, y_pred))"
   ]
  }
 ],
 "metadata": {
  "kernelspec": {
   "display_name": "Python 3",
   "language": "python",
   "name": "python3"
  },
  "language_info": {
   "codemirror_mode": {
    "name": "ipython",
    "version": 3
   },
   "file_extension": ".py",
   "mimetype": "text/x-python",
   "name": "python",
   "nbconvert_exporter": "python",
   "pygments_lexer": "ipython3",
   "version": "3.7.7"
  }
 },
 "nbformat": 4,
 "nbformat_minor": 4
}
